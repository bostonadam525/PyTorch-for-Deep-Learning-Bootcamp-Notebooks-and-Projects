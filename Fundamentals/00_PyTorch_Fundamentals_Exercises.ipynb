{
  "nbformat": 4,
  "nbformat_minor": 0,
  "metadata": {
    "colab": {
      "provenance": []
    },
    "kernelspec": {
      "name": "python3",
      "display_name": "Python 3"
    },
    "language_info": {
      "name": "python"
    }
  },
  "cells": [
    {
      "cell_type": "markdown",
      "source": [
        "# PyTorch Fundamentals Exercises\n",
        "Notebook completed by Adam Lang as part of ZTM/Udem PyTorch for Deep Learning Bootcamp\n",
        "1. Documentation reading\n",
        "A big part of deep learning (and learning to code in general) is getting familiar with the documentation of a certain framework you're using. We'll be using the PyTorch documentation a lot throughout the rest of this course. So I'd recommend spending 10-minutes reading the following (it's okay if you don't get some things for now, the focus is not yet full understanding, it's awareness):\n",
        "\n",
        "The documentation on `torch.tensor`.\n",
        "The documentation on `torch.cuda`."
      ],
      "metadata": {
        "id": "W8FOpNkBgA8t"
      }
    },
    {
      "cell_type": "code",
      "execution_count": 1,
      "metadata": {
        "id": "8CFF3yZNf6Xy"
      },
      "outputs": [],
      "source": [
        "import torch"
      ]
    },
    {
      "cell_type": "markdown",
      "source": [
        "# 2. Create a random tensor with shape (7, 7)."
      ],
      "metadata": {
        "id": "nhpmlBacgQIQ"
      }
    },
    {
      "cell_type": "code",
      "source": [
        "#random tensor 7,7\n",
        "random_tensor = torch.rand(7,7)\n",
        "random_tensor"
      ],
      "metadata": {
        "colab": {
          "base_uri": "https://localhost:8080/"
        },
        "id": "VxZFsYqbgRbO",
        "outputId": "a663627b-27c2-4734-87ad-b305011bc3c0"
      },
      "execution_count": 2,
      "outputs": [
        {
          "output_type": "execute_result",
          "data": {
            "text/plain": [
              "tensor([[0.3880, 0.4692, 0.1339, 0.5970, 0.8394, 0.8861, 0.3271],\n",
              "        [0.7915, 0.2872, 0.9372, 0.4465, 0.1998, 0.2791, 0.3683],\n",
              "        [0.4120, 0.7327, 0.5935, 0.2877, 0.4884, 0.2759, 0.4139],\n",
              "        [0.7673, 0.4989, 0.4727, 0.3140, 0.6270, 0.9692, 0.0668],\n",
              "        [0.5706, 0.2123, 0.0123, 0.4243, 0.7503, 0.0277, 0.8385],\n",
              "        [0.3914, 0.5682, 0.9001, 0.0685, 0.0646, 0.2717, 0.9260],\n",
              "        [0.0088, 0.0549, 0.3059, 0.8009, 0.1209, 0.2592, 0.1805]])"
            ]
          },
          "metadata": {},
          "execution_count": 2
        }
      ]
    },
    {
      "cell_type": "code",
      "source": [
        "#check shape of random_tensor and ndim\n",
        "print(f\"Shape of random tensor is: {random_tensor.shape}\")\n",
        "print(f\"Dimensions of random tensor are: {random_tensor.ndim}\")"
      ],
      "metadata": {
        "colab": {
          "base_uri": "https://localhost:8080/"
        },
        "id": "mWcERMiFghG2",
        "outputId": "ab52f33a-b0bb-4457-88ec-390710497f2d"
      },
      "execution_count": 4,
      "outputs": [
        {
          "output_type": "stream",
          "name": "stdout",
          "text": [
            "Shape of random tensor is: torch.Size([7, 7])\n",
            "Dimensions of random tensor are: 2\n"
          ]
        }
      ]
    },
    {
      "cell_type": "markdown",
      "source": [
        "# 3. Perform a matrix multiplication on the tensor from 2 with another random tensor with shape (1, 7) (hint: you may have to transpose the second tensor)."
      ],
      "metadata": {
        "id": "ck_xUWqIg0mL"
      }
    },
    {
      "cell_type": "code",
      "source": [
        "#check shape of random tensor\n",
        "random_tensor.shape"
      ],
      "metadata": {
        "colab": {
          "base_uri": "https://localhost:8080/"
        },
        "id": "Kc8P1H0ygtVH",
        "outputId": "f3d8cd67-c112-48ef-f2c6-d620f6252f11"
      },
      "execution_count": 5,
      "outputs": [
        {
          "output_type": "execute_result",
          "data": {
            "text/plain": [
              "torch.Size([7, 7])"
            ]
          },
          "metadata": {},
          "execution_count": 5
        }
      ]
    },
    {
      "cell_type": "code",
      "source": [
        "#create another random tensor of shape (1,7)\n",
        "random_tensor2 = torch.rand(1,7)\n",
        "random_tensor2"
      ],
      "metadata": {
        "colab": {
          "base_uri": "https://localhost:8080/"
        },
        "id": "cp9eUHQcg8Vf",
        "outputId": "0cf256e6-d4e1-45cb-d169-c2646d694327"
      },
      "execution_count": 6,
      "outputs": [
        {
          "output_type": "execute_result",
          "data": {
            "text/plain": [
              "tensor([[0.3403, 0.1731, 0.6220, 0.4826, 0.9745, 0.3627, 0.2511]])"
            ]
          },
          "metadata": {},
          "execution_count": 6
        }
      ]
    },
    {
      "cell_type": "code",
      "source": [
        "#check shape and ndim of random_tensor2\n",
        "print(f\"Shape of random tensor2: {random_tensor2.shape}\")\n",
        "print(f\"Dims of random tensor2: {random_tensor2.ndim}\")"
      ],
      "metadata": {
        "colab": {
          "base_uri": "https://localhost:8080/"
        },
        "id": "dvrtqhZohDoG",
        "outputId": "305e9ff1-eb86-4f40-aeea-fc2707e76f31"
      },
      "execution_count": 7,
      "outputs": [
        {
          "output_type": "stream",
          "name": "stdout",
          "text": [
            "Shape of random tensor2: torch.Size([1, 7])\n",
            "Dims of random tensor2: 2\n"
          ]
        }
      ]
    },
    {
      "cell_type": "markdown",
      "source": [
        "summary: So we have 2 tensors one with shape of `7,7` and other `1,7`.\n",
        "\n",
        "* The inner dimensions DO NOT match so matrix multiplication will not work.\n",
        "* We will have to transform a tensor to perform matrix multiplication."
      ],
      "metadata": {
        "id": "dXAK1KwWhR61"
      }
    },
    {
      "cell_type": "code",
      "source": [
        "# transform random_tensor2\n",
        "random_tensor2 = random_tensor2.T\n",
        "\n",
        "\n",
        "#print result\n",
        "print(random_tensor2)\n",
        "print(random_tensor2.shape)"
      ],
      "metadata": {
        "colab": {
          "base_uri": "https://localhost:8080/"
        },
        "id": "7JfHrGeHhN7c",
        "outputId": "997027a5-5878-42ef-9bc3-96d332f4b77d"
      },
      "execution_count": 8,
      "outputs": [
        {
          "output_type": "stream",
          "name": "stdout",
          "text": [
            "tensor([[0.3403],\n",
            "        [0.1731],\n",
            "        [0.6220],\n",
            "        [0.4826],\n",
            "        [0.9745],\n",
            "        [0.3627],\n",
            "        [0.2511]])\n",
            "torch.Size([7, 1])\n"
          ]
        }
      ]
    },
    {
      "cell_type": "markdown",
      "source": [
        "summary: Now we have tensors of shape `7,7` and `7,1`\n",
        "- inner dimensions match so we can perform matmul"
      ],
      "metadata": {
        "id": "DyUKqdEaiBa8"
      }
    },
    {
      "cell_type": "code",
      "source": [
        "#matrix multiplication\n",
        "torch.matmul(random_tensor, random_tensor2)"
      ],
      "metadata": {
        "colab": {
          "base_uri": "https://localhost:8080/"
        },
        "id": "GUHc4F2yh_mA",
        "outputId": "4a97faa3-9e3f-4d17-bb71-64b09ae3c221"
      },
      "execution_count": 9,
      "outputs": [
        {
          "output_type": "execute_result",
          "data": {
            "text/plain": [
              "tensor([[1.8061],\n",
              "        [1.5058],\n",
              "        [1.4550],\n",
              "        [1.7723],\n",
              "        [1.3951],\n",
              "        [1.2185],\n",
              "        [0.8464]])"
            ]
          },
          "metadata": {},
          "execution_count": 9
        }
      ]
    },
    {
      "cell_type": "markdown",
      "source": [
        "# 4. Set the random seed to 0 and do 2 & 3 over again.\n",
        "\n",
        "The output should be:\n",
        "\n",
        "`(tensor([[1.8542],\n",
        "         [1.9611],\n",
        "         [2.2884],\n",
        "         [3.0481],\n",
        "         [1.7067],\n",
        "         [2.5290],\n",
        "         [1.7989]]), torch.Size([7, 1]))`"
      ],
      "metadata": {
        "id": "ZgfxD4kXibFB"
      }
    },
    {
      "cell_type": "code",
      "source": [
        "# Step 1: set random seed to 0 and create random tensor again\n",
        "#SET RANDOM_SEED\n",
        "RANDOM_SEED = 0\n",
        "#use manual_seed function\n",
        "torch.manual_seed(RANDOM_SEED)\n",
        "x = torch.rand(size=(7,7))\n",
        "y = torch.rand(size=(1,7))\n",
        "\n",
        "#print random_tensor again\n",
        "print(x)\n",
        "print(f\"Shape of random_tensor x is: {x.shape}\")\n",
        "print(y)\n",
        "print(f\"Shape of random_tensor y is: {y.shape}\")"
      ],
      "metadata": {
        "colab": {
          "base_uri": "https://localhost:8080/"
        },
        "id": "3yuhj7eLiTCr",
        "outputId": "1f1d93e7-c592-480a-d4a7-8e8d4a92124c"
      },
      "execution_count": 31,
      "outputs": [
        {
          "output_type": "stream",
          "name": "stdout",
          "text": [
            "tensor([[0.4963, 0.7682, 0.0885, 0.1320, 0.3074, 0.6341, 0.4901],\n",
            "        [0.8964, 0.4556, 0.6323, 0.3489, 0.4017, 0.0223, 0.1689],\n",
            "        [0.2939, 0.5185, 0.6977, 0.8000, 0.1610, 0.2823, 0.6816],\n",
            "        [0.9152, 0.3971, 0.8742, 0.4194, 0.5529, 0.9527, 0.0362],\n",
            "        [0.1852, 0.3734, 0.3051, 0.9320, 0.1759, 0.2698, 0.1507],\n",
            "        [0.0317, 0.2081, 0.9298, 0.7231, 0.7423, 0.5263, 0.2437],\n",
            "        [0.5846, 0.0332, 0.1387, 0.2422, 0.8155, 0.7932, 0.2783]])\n",
            "Shape of random_tensor x is: torch.Size([7, 7])\n",
            "tensor([[0.4820, 0.8198, 0.9971, 0.6984, 0.5675, 0.8352, 0.2056]])\n",
            "Shape of random_tensor y is: torch.Size([1, 7])\n"
          ]
        }
      ]
    },
    {
      "cell_type": "code",
      "source": [
        "#multiply again\n",
        "print(torch.mm(x, y.T))\n",
        "print(torch.mm(x,y.T).shape)\n"
      ],
      "metadata": {
        "colab": {
          "base_uri": "https://localhost:8080/"
        },
        "id": "9HOb5pu7kw-u",
        "outputId": "e93c49f6-099f-4826-c7b2-bdddc980fa89"
      },
      "execution_count": 34,
      "outputs": [
        {
          "output_type": "stream",
          "name": "stdout",
          "text": [
            "tensor([[1.8542],\n",
            "        [1.9611],\n",
            "        [2.2884],\n",
            "        [3.0481],\n",
            "        [1.7067],\n",
            "        [2.5290],\n",
            "        [1.7989]])\n",
            "torch.Size([7, 1])\n"
          ]
        }
      ]
    },
    {
      "cell_type": "markdown",
      "source": [
        "# 5. Speaking of random seeds, we saw how to set it with torch.manual_seed() but is there a GPU equivalent? (hint: you'll need to look into the documentation for torch.cuda for this one)\n",
        "If there is, set the GPU random seed to 1234."
      ],
      "metadata": {
        "id": "9P8oX4Acn0GP"
      }
    },
    {
      "cell_type": "code",
      "source": [
        "# set cuda to 1234\n",
        "torch.cuda.manual_seed(1234)"
      ],
      "metadata": {
        "id": "3wMDbEWClBq-"
      },
      "execution_count": 35,
      "outputs": []
    },
    {
      "cell_type": "markdown",
      "source": [
        "# 6. Create two random tensors of shape (2, 3) and send them both to the GPU (you'll need access to a GPU for this). Set torch.manual_seed(1234) when creating the tensors (this doesn't have to be the GPU random seed). The output should be something like:\n",
        "\n",
        "\n",
        "`Device: cuda\n",
        "(tensor([[0.0290, 0.4019, 0.2598],\n",
        "         [0.3666, 0.0583, 0.7006]], device='cuda:0'),\n",
        " tensor([[0.0518, 0.4681, 0.6738],\n",
        "         [0.3315, 0.7837, 0.5631]], device='cuda:0'))`"
      ],
      "metadata": {
        "id": "Ptut-R3PooKH"
      }
    },
    {
      "cell_type": "code",
      "source": [
        "# check if cuda is available\n",
        "device = \"cuda\" if torch.cuda.is_available() else \"cpu\"\n",
        "\n",
        "device = print(f\"Device: {device}\")"
      ],
      "metadata": {
        "colab": {
          "base_uri": "https://localhost:8080/"
        },
        "id": "mJ78FgZ6odPC",
        "outputId": "913eeac3-e448-49f7-93d8-3486df5b1999"
      },
      "execution_count": 39,
      "outputs": [
        {
          "output_type": "stream",
          "name": "stdout",
          "text": [
            "Device: cpu\n"
          ]
        }
      ]
    },
    {
      "cell_type": "code",
      "source": [
        "#create 2 random tensors\n",
        "# set random seed\n",
        "RANDOM_SEED = 1234\n",
        "torch.manual_seed(RANDOM_SEED)\n",
        "\n",
        "# create 2 random tensors\n",
        "rand_tensor = torch.rand(size=(2,3)).to(device)\n",
        "rand_tensor2 = torch.rand(size=(2,3)).to(device)\n",
        "\n",
        "\n",
        "#print results\n",
        "print(rand_tensor, rand_tensor2)"
      ],
      "metadata": {
        "colab": {
          "base_uri": "https://localhost:8080/"
        },
        "id": "Wz82l7cXpFHx",
        "outputId": "811cbfbd-5e81-43a4-e549-5dcd9b019864"
      },
      "execution_count": 42,
      "outputs": [
        {
          "output_type": "stream",
          "name": "stdout",
          "text": [
            "tensor([[0.0290, 0.4019, 0.2598],\n",
            "        [0.3666, 0.0583, 0.7006]]) tensor([[0.0518, 0.4681, 0.6738],\n",
            "        [0.3315, 0.7837, 0.5631]])\n"
          ]
        }
      ]
    },
    {
      "cell_type": "code",
      "source": [],
      "metadata": {
        "id": "tzQB1NqhqD9N"
      },
      "execution_count": null,
      "outputs": []
    },
    {
      "cell_type": "markdown",
      "source": [
        "# 7. Perform a matrix multiplication on the tensors you created in 6 (again, you may have to adjust the shapes of one of the tensors).\n",
        "The output should look like:\n",
        "\n",
        "`(tensor([[0.3647, 0.4709],\n",
        "         [0.5184, 0.5617]], device='cuda:0'), torch.Size([2, 2]))`"
      ],
      "metadata": {
        "id": "co6IMayeqoWX"
      }
    },
    {
      "cell_type": "code",
      "source": [
        "#print shapes of tensors from #6 above\n",
        "print(f\"Shape of rand_tensor is: {rand_tensor.shape}\")\n",
        "print(f\"Shape of rand_tensor2 is: {rand_tensor2.shape}\")"
      ],
      "metadata": {
        "colab": {
          "base_uri": "https://localhost:8080/"
        },
        "id": "pXzGvoAkqt8h",
        "outputId": "3cb65785-7399-4a3b-f293-ecdf64d04350"
      },
      "execution_count": 43,
      "outputs": [
        {
          "output_type": "stream",
          "name": "stdout",
          "text": [
            "Shape of rand_tensor is: torch.Size([2, 3])\n",
            "Shape of rand_tensor2 is: torch.Size([2, 3])\n"
          ]
        }
      ]
    },
    {
      "cell_type": "code",
      "source": [
        "# perform matrix multiplication\n",
        "mm_tensor = torch.matmul(rand_tensor, rand_tensor2.T)\n",
        "\n",
        "mm_tensor"
      ],
      "metadata": {
        "colab": {
          "base_uri": "https://localhost:8080/"
        },
        "id": "C1CTBsSiq7et",
        "outputId": "08d87445-c6f8-4467-b92f-307559f0819b"
      },
      "execution_count": 45,
      "outputs": [
        {
          "output_type": "execute_result",
          "data": {
            "text/plain": [
              "tensor([[0.3647, 0.4709],\n",
              "        [0.5184, 0.5617]])"
            ]
          },
          "metadata": {},
          "execution_count": 45
        }
      ]
    },
    {
      "cell_type": "markdown",
      "source": [
        "# 8. Find the maximum and minimum values of the output of 7."
      ],
      "metadata": {
        "id": "vGsTQLKxrJq9"
      }
    },
    {
      "cell_type": "code",
      "source": [
        "# max values\n",
        "print(f\"Max of rand_tensor: {rand_tensor.max()}\")\n",
        "print(f\"Max of rand_tensor2: {rand_tensor2.max()}\")\n",
        "print(f\"Max of mm_tensor: {mm_tensor.max()}\")"
      ],
      "metadata": {
        "colab": {
          "base_uri": "https://localhost:8080/"
        },
        "id": "WEIBIQywrF6P",
        "outputId": "f530f4ea-5d50-4c9e-e361-0f7728fc1481"
      },
      "execution_count": 46,
      "outputs": [
        {
          "output_type": "stream",
          "name": "stdout",
          "text": [
            "Max of rand_tensor: 0.7006447315216064\n",
            "Max of rand_tensor2: 0.7837080359458923\n",
            "Max of mm_tensor: 0.5617256760597229\n"
          ]
        }
      ]
    },
    {
      "cell_type": "code",
      "source": [
        "# min values\n",
        "print(f\"Min of rand_tensor: {rand_tensor.min()}\")\n",
        "print(f\"Min of rand_tensor: {rand_tensor2.min()}\")\n",
        "print(f\"Min of mm_tensor: {mm_tensor.min()}\")"
      ],
      "metadata": {
        "colab": {
          "base_uri": "https://localhost:8080/"
        },
        "id": "qL-aGOoHrm1o",
        "outputId": "5c3c34f6-5138-48ea-f2f1-628b1d5364e7"
      },
      "execution_count": 47,
      "outputs": [
        {
          "output_type": "stream",
          "name": "stdout",
          "text": [
            "Min of rand_tensor: 0.028979241847991943\n",
            "Min of rand_tensor: 0.05179738998413086\n",
            "Min of mm_tensor: 0.3647301495075226\n"
          ]
        }
      ]
    },
    {
      "cell_type": "markdown",
      "source": [
        "# 9. Find the maximum and minimum index values of the output of 7."
      ],
      "metadata": {
        "id": "J94m3H3fr21o"
      }
    },
    {
      "cell_type": "code",
      "source": [
        "# maximum indexes\n",
        "print(f\"Min of rand_tensor: {rand_tensor.argmax()}\")\n",
        "print(f\"Min of rand_tensor: {rand_tensor2.argmax()}\")\n",
        "print(f\"Min of mm_tensor: {mm_tensor.argmax()}\")"
      ],
      "metadata": {
        "colab": {
          "base_uri": "https://localhost:8080/"
        },
        "id": "BhKiJnlPryZA",
        "outputId": "82d02a07-dff3-4e0f-b373-3f3d23f2a544"
      },
      "execution_count": 48,
      "outputs": [
        {
          "output_type": "stream",
          "name": "stdout",
          "text": [
            "Min of rand_tensor: 5\n",
            "Min of rand_tensor: 4\n",
            "Min of mm_tensor: 3\n"
          ]
        }
      ]
    },
    {
      "cell_type": "code",
      "source": [
        "# min indexes\n",
        "print(f\"Min of rand_tensor: {rand_tensor.argmin()}\")\n",
        "print(f\"Min of rand_tensor: {rand_tensor2.argmin()}\")\n",
        "print(f\"Min of mm_tensor: {mm_tensor.argmin()}\")"
      ],
      "metadata": {
        "colab": {
          "base_uri": "https://localhost:8080/"
        },
        "id": "5wpW5UgAr84n",
        "outputId": "bf526e6b-9c8a-48e2-c914-52447bcf0736"
      },
      "execution_count": 49,
      "outputs": [
        {
          "output_type": "stream",
          "name": "stdout",
          "text": [
            "Min of rand_tensor: 0\n",
            "Min of rand_tensor: 0\n",
            "Min of mm_tensor: 0\n"
          ]
        }
      ]
    },
    {
      "cell_type": "markdown",
      "source": [
        "# 10. Make a random tensor with shape (1, 1, 1, 10) and then create a new tensor with all the 1 dimensions removed to be left with a tensor of shape (10). Set the seed to 7 when you create it and print out the first tensor and it's shape as well as the second tensor and it's shape.\n",
        "The output should look like:\n",
        "\n",
        "`tensor([[[[0.5349, 0.1988, 0.6592, 0.6569, 0.2328, 0.4251, 0.2071, 0.6297,\n",
        "           0.3653, 0.8513]]]]) torch.Size([1, 1, 1, 10])\n",
        "tensor([0.5349, 0.1988, 0.6592, 0.6569, 0.2328, 0.4251, 0.2071, 0.6297, 0.3653,\n",
        "        0.8513]) torch.Size([10])`"
      ],
      "metadata": {
        "id": "_Fv7pEHvsHqt"
      }
    },
    {
      "cell_type": "code",
      "source": [
        "# make random tensor shape (1,1,1,10)\n",
        "# set seed to 7\n",
        "RANDOM_SEED = 7\n",
        "torch.manual_seed(RANDOM_SEED)\n",
        "# create random tensor\n",
        "tensor_A = torch.rand(size=(1,1,1,10))\n",
        "tensor_A"
      ],
      "metadata": {
        "colab": {
          "base_uri": "https://localhost:8080/"
        },
        "id": "qK3saKcIsEGd",
        "outputId": "dea35b92-be34-4ced-f1dd-d9aef98c4b83"
      },
      "execution_count": 55,
      "outputs": [
        {
          "output_type": "execute_result",
          "data": {
            "text/plain": [
              "tensor([[[[0.5349, 0.1988, 0.6592, 0.6569, 0.2328, 0.4251, 0.2071, 0.6297,\n",
              "           0.3653, 0.8513]]]])"
            ]
          },
          "metadata": {},
          "execution_count": 55
        }
      ]
    },
    {
      "cell_type": "code",
      "source": [
        "# create new tensor from other tensor and squeeze tensor removes all dimensions of size '1'\n",
        "torch.manual_seed(RANDOM_SEED)\n",
        "tensor_B = torch.squeeze(tensor_A)\n",
        "tensor_B"
      ],
      "metadata": {
        "colab": {
          "base_uri": "https://localhost:8080/"
        },
        "id": "_Q1h5KebsZFR",
        "outputId": "c562171b-7983-458c-94f3-e9770f7b0a3e"
      },
      "execution_count": 56,
      "outputs": [
        {
          "output_type": "execute_result",
          "data": {
            "text/plain": [
              "tensor([0.5349, 0.1988, 0.6592, 0.6569, 0.2328, 0.4251, 0.2071, 0.6297, 0.3653,\n",
              "        0.8513])"
            ]
          },
          "metadata": {},
          "execution_count": 56
        }
      ]
    },
    {
      "cell_type": "code",
      "source": [
        "# get shapes of both tensors: tensor_A, tensor_B\n",
        "print(f\"Shape of tensor_A is: {tensor_A.shape}\")\n",
        "print(f\"Shape of tensor_B is: {tensor_B.shape}\")"
      ],
      "metadata": {
        "colab": {
          "base_uri": "https://localhost:8080/"
        },
        "id": "0ZD0V6amtRy8",
        "outputId": "849dc170-dfca-40b8-92a3-f583bd5aa9d0"
      },
      "execution_count": 57,
      "outputs": [
        {
          "output_type": "stream",
          "name": "stdout",
          "text": [
            "Shape of tensor_A is: torch.Size([1, 1, 1, 10])\n",
            "Shape of tensor_B is: torch.Size([10])\n"
          ]
        }
      ]
    },
    {
      "cell_type": "code",
      "source": [],
      "metadata": {
        "id": "uiWGp9F-taMu"
      },
      "execution_count": null,
      "outputs": []
    }
  ]
}